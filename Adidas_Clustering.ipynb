{
 "cells": [
  {
   "cell_type": "code",
   "execution_count": 1,
   "metadata": {},
   "outputs": [],
   "source": [
    "import pandas as pd\n",
    "import numpy as np\n",
    "import matplotlib.pyplot as plt\n",
    "import seaborn as sn\n",
    "\n",
    "from sklearn.tree import DecisionTreeClassifier\n",
    "from sklearn.ensemble import RandomForestClassifier\n",
    "from sklearn.model_selection import train_test_split\n",
    "from sklearn.cluster import KMeans\n",
    "from sklearn.metrics import silhouette_samples, silhouette_score\n",
    "import matplotlib.cm as cm\n",
    "from sklearn.preprocessing import MinMaxScaler\n",
    "from sklearn.linear_model import LogisticRegression\n",
    "from sklearn.metrics import recall_score, roc_auc_score, mean_squared_error, confusion_matrix, classification_report, f1_score\n",
    "from sklearn.model_selection import train_test_split, cross_val_score, GridSearchCV, RandomizedSearchCV\n",
    "\n",
    "%matplotlib inline\n",
    "\n",
    "import warnings\n",
    "warnings.filterwarnings(\"ignore\")"
   ]
  },
  {
   "cell_type": "code",
   "execution_count": 2,
   "metadata": {},
   "outputs": [],
   "source": [
    "# Reading male measurement data\n",
    "data_raw = pd.read_csv(\"ANSUR II MALE Public.csv\", header=0)"
   ]
  },
  {
   "cell_type": "code",
   "execution_count": 3,
   "metadata": {},
   "outputs": [
    {
     "data": {
      "text/html": [
       "<div>\n",
       "<style scoped>\n",
       "    .dataframe tbody tr th:only-of-type {\n",
       "        vertical-align: middle;\n",
       "    }\n",
       "\n",
       "    .dataframe tbody tr th {\n",
       "        vertical-align: top;\n",
       "    }\n",
       "\n",
       "    .dataframe thead th {\n",
       "        text-align: right;\n",
       "    }\n",
       "</style>\n",
       "<table border=\"1\" class=\"dataframe\">\n",
       "  <thead>\n",
       "    <tr style=\"text-align: right;\">\n",
       "      <th></th>\n",
       "      <th>subjectid</th>\n",
       "      <th>abdominalextensiondepthsitting</th>\n",
       "      <th>acromialheight</th>\n",
       "      <th>acromionradialelength</th>\n",
       "      <th>anklecircumference</th>\n",
       "      <th>axillaheight</th>\n",
       "      <th>balloffootcircumference</th>\n",
       "      <th>balloffootlength</th>\n",
       "      <th>biacromialbreadth</th>\n",
       "      <th>bicepscircumferenceflexed</th>\n",
       "      <th>...</th>\n",
       "      <th>Branch</th>\n",
       "      <th>PrimaryMOS</th>\n",
       "      <th>SubjectsBirthLocation</th>\n",
       "      <th>SubjectNumericRace</th>\n",
       "      <th>Ethnicity</th>\n",
       "      <th>DODRace</th>\n",
       "      <th>Age</th>\n",
       "      <th>Heightin</th>\n",
       "      <th>Weightlbs</th>\n",
       "      <th>WritingPreference</th>\n",
       "    </tr>\n",
       "  </thead>\n",
       "  <tbody>\n",
       "    <tr>\n",
       "      <th>0</th>\n",
       "      <td>10027</td>\n",
       "      <td>266</td>\n",
       "      <td>1467</td>\n",
       "      <td>337</td>\n",
       "      <td>222</td>\n",
       "      <td>1347</td>\n",
       "      <td>253</td>\n",
       "      <td>202</td>\n",
       "      <td>401</td>\n",
       "      <td>369</td>\n",
       "      <td>...</td>\n",
       "      <td>Combat Arms</td>\n",
       "      <td>19D</td>\n",
       "      <td>North Dakota</td>\n",
       "      <td>1</td>\n",
       "      <td>NaN</td>\n",
       "      <td>1</td>\n",
       "      <td>41</td>\n",
       "      <td>71</td>\n",
       "      <td>180</td>\n",
       "      <td>Right hand</td>\n",
       "    </tr>\n",
       "    <tr>\n",
       "      <th>1</th>\n",
       "      <td>10032</td>\n",
       "      <td>233</td>\n",
       "      <td>1395</td>\n",
       "      <td>326</td>\n",
       "      <td>220</td>\n",
       "      <td>1293</td>\n",
       "      <td>245</td>\n",
       "      <td>193</td>\n",
       "      <td>394</td>\n",
       "      <td>338</td>\n",
       "      <td>...</td>\n",
       "      <td>Combat Support</td>\n",
       "      <td>68W</td>\n",
       "      <td>New York</td>\n",
       "      <td>1</td>\n",
       "      <td>NaN</td>\n",
       "      <td>1</td>\n",
       "      <td>35</td>\n",
       "      <td>68</td>\n",
       "      <td>160</td>\n",
       "      <td>Left hand</td>\n",
       "    </tr>\n",
       "    <tr>\n",
       "      <th>2</th>\n",
       "      <td>10033</td>\n",
       "      <td>287</td>\n",
       "      <td>1430</td>\n",
       "      <td>341</td>\n",
       "      <td>230</td>\n",
       "      <td>1327</td>\n",
       "      <td>256</td>\n",
       "      <td>196</td>\n",
       "      <td>427</td>\n",
       "      <td>408</td>\n",
       "      <td>...</td>\n",
       "      <td>Combat Support</td>\n",
       "      <td>68W</td>\n",
       "      <td>New York</td>\n",
       "      <td>2</td>\n",
       "      <td>NaN</td>\n",
       "      <td>2</td>\n",
       "      <td>42</td>\n",
       "      <td>68</td>\n",
       "      <td>205</td>\n",
       "      <td>Left hand</td>\n",
       "    </tr>\n",
       "    <tr>\n",
       "      <th>3</th>\n",
       "      <td>10092</td>\n",
       "      <td>234</td>\n",
       "      <td>1347</td>\n",
       "      <td>310</td>\n",
       "      <td>230</td>\n",
       "      <td>1239</td>\n",
       "      <td>262</td>\n",
       "      <td>199</td>\n",
       "      <td>401</td>\n",
       "      <td>359</td>\n",
       "      <td>...</td>\n",
       "      <td>Combat Service Support</td>\n",
       "      <td>88M</td>\n",
       "      <td>Wisconsin</td>\n",
       "      <td>1</td>\n",
       "      <td>NaN</td>\n",
       "      <td>1</td>\n",
       "      <td>31</td>\n",
       "      <td>66</td>\n",
       "      <td>175</td>\n",
       "      <td>Right hand</td>\n",
       "    </tr>\n",
       "    <tr>\n",
       "      <th>4</th>\n",
       "      <td>10093</td>\n",
       "      <td>250</td>\n",
       "      <td>1585</td>\n",
       "      <td>372</td>\n",
       "      <td>247</td>\n",
       "      <td>1478</td>\n",
       "      <td>267</td>\n",
       "      <td>224</td>\n",
       "      <td>435</td>\n",
       "      <td>356</td>\n",
       "      <td>...</td>\n",
       "      <td>Combat Service Support</td>\n",
       "      <td>92G</td>\n",
       "      <td>North Carolina</td>\n",
       "      <td>2</td>\n",
       "      <td>NaN</td>\n",
       "      <td>2</td>\n",
       "      <td>21</td>\n",
       "      <td>77</td>\n",
       "      <td>213</td>\n",
       "      <td>Right hand</td>\n",
       "    </tr>\n",
       "  </tbody>\n",
       "</table>\n",
       "<p>5 rows × 108 columns</p>\n",
       "</div>"
      ],
      "text/plain": [
       "   subjectid  abdominalextensiondepthsitting  acromialheight  \\\n",
       "0      10027                             266            1467   \n",
       "1      10032                             233            1395   \n",
       "2      10033                             287            1430   \n",
       "3      10092                             234            1347   \n",
       "4      10093                             250            1585   \n",
       "\n",
       "   acromionradialelength  anklecircumference  axillaheight  \\\n",
       "0                    337                 222          1347   \n",
       "1                    326                 220          1293   \n",
       "2                    341                 230          1327   \n",
       "3                    310                 230          1239   \n",
       "4                    372                 247          1478   \n",
       "\n",
       "   balloffootcircumference  balloffootlength  biacromialbreadth  \\\n",
       "0                      253               202                401   \n",
       "1                      245               193                394   \n",
       "2                      256               196                427   \n",
       "3                      262               199                401   \n",
       "4                      267               224                435   \n",
       "\n",
       "   bicepscircumferenceflexed  ...                  Branch  PrimaryMOS  \\\n",
       "0                        369  ...             Combat Arms         19D   \n",
       "1                        338  ...          Combat Support         68W   \n",
       "2                        408  ...          Combat Support         68W   \n",
       "3                        359  ...  Combat Service Support         88M   \n",
       "4                        356  ...  Combat Service Support         92G   \n",
       "\n",
       "   SubjectsBirthLocation  SubjectNumericRace  Ethnicity  DODRace  Age  \\\n",
       "0           North Dakota                   1        NaN        1   41   \n",
       "1               New York                   1        NaN        1   35   \n",
       "2               New York                   2        NaN        2   42   \n",
       "3              Wisconsin                   1        NaN        1   31   \n",
       "4         North Carolina                   2        NaN        2   21   \n",
       "\n",
       "   Heightin  Weightlbs  WritingPreference  \n",
       "0        71        180         Right hand  \n",
       "1        68        160          Left hand  \n",
       "2        68        205          Left hand  \n",
       "3        66        175         Right hand  \n",
       "4        77        213         Right hand  \n",
       "\n",
       "[5 rows x 108 columns]"
      ]
     },
     "execution_count": 3,
     "metadata": {},
     "output_type": "execute_result"
    }
   ],
   "source": [
    "data_raw.head()"
   ]
  },
  {
   "cell_type": "code",
   "execution_count": 5,
   "metadata": {},
   "outputs": [],
   "source": [
    "# Selecting relevant measurement columns for t-shirts\n",
    "shirt_df = data_raw[[\"cervicaleheight\", \"chestbreadth\", \"chestcircumference\", \"chestdepth\", \"chestheight\", \"elbowrestheight\",\n",
    "         \"forearmcenterofgriplength\", \"forearmcircumferenceflexed\", \"forearmforearmbreadth\", \"forearmhandlength\",\n",
    "         \"abdominalextensiondepthsitting\", \"acromionradialelength\", \"biacromialbreadth\", \"bicepscircumferenceflexed\", \n",
    "         \"bicristalbreadth\", \"bideltoidbreadth\", \"waistbreadth\", \"waistcircumference\", \"waistdepth\", \"waistfrontlengthsitting\",\n",
    "         \"wristcircumference\", \"wristheight\", \"Heightin\", \"neckcircumferencebase\", \"shoulderlength\", \"waistbacklength\", \n",
    "         \"hipbreadth\", \"hipbreadthsitting\", \"interscyei\", \"interscyeii\"]]"
   ]
  },
  {
   "cell_type": "code",
   "execution_count": 33,
   "metadata": {},
   "outputs": [
    {
     "data": {
      "text/plain": [
       "0"
      ]
     },
     "execution_count": 33,
     "metadata": {},
     "output_type": "execute_result"
    }
   ],
   "source": [
    "# checking for duplicates\n",
    "sum(shirt_df.duplicated())"
   ]
  },
  {
   "cell_type": "code",
   "execution_count": 6,
   "metadata": {},
   "outputs": [
    {
     "name": "stdout",
     "output_type": "stream",
     "text": [
      "<class 'pandas.core.frame.DataFrame'>\n",
      "RangeIndex: 4082 entries, 0 to 4081\n",
      "Data columns (total 30 columns):\n",
      " #   Column                          Non-Null Count  Dtype\n",
      "---  ------                          --------------  -----\n",
      " 0   cervicaleheight                 4082 non-null   int64\n",
      " 1   chestbreadth                    4082 non-null   int64\n",
      " 2   chestcircumference              4082 non-null   int64\n",
      " 3   chestdepth                      4082 non-null   int64\n",
      " 4   chestheight                     4082 non-null   int64\n",
      " 5   elbowrestheight                 4082 non-null   int64\n",
      " 6   forearmcenterofgriplength       4082 non-null   int64\n",
      " 7   forearmcircumferenceflexed      4082 non-null   int64\n",
      " 8   forearmforearmbreadth           4082 non-null   int64\n",
      " 9   forearmhandlength               4082 non-null   int64\n",
      " 10  abdominalextensiondepthsitting  4082 non-null   int64\n",
      " 11  acromionradialelength           4082 non-null   int64\n",
      " 12  biacromialbreadth               4082 non-null   int64\n",
      " 13  bicepscircumferenceflexed       4082 non-null   int64\n",
      " 14  bicristalbreadth                4082 non-null   int64\n",
      " 15  bideltoidbreadth                4082 non-null   int64\n",
      " 16  waistbreadth                    4082 non-null   int64\n",
      " 17  waistcircumference              4082 non-null   int64\n",
      " 18  waistdepth                      4082 non-null   int64\n",
      " 19  waistfrontlengthsitting         4082 non-null   int64\n",
      " 20  wristcircumference              4082 non-null   int64\n",
      " 21  wristheight                     4082 non-null   int64\n",
      " 22  Heightin                        4082 non-null   int64\n",
      " 23  neckcircumferencebase           4082 non-null   int64\n",
      " 24  shoulderlength                  4082 non-null   int64\n",
      " 25  waistbacklength                 4082 non-null   int64\n",
      " 26  hipbreadth                      4082 non-null   int64\n",
      " 27  hipbreadthsitting               4082 non-null   int64\n",
      " 28  interscyei                      4082 non-null   int64\n",
      " 29  interscyeii                     4082 non-null   int64\n",
      "dtypes: int64(30)\n",
      "memory usage: 956.8 KB\n"
     ]
    }
   ],
   "source": [
    "# Checking data types and missing/null values\n",
    "shirt_df.info()"
   ]
  },
  {
   "cell_type": "code",
   "execution_count": 10,
   "metadata": {},
   "outputs": [
    {
     "data": {
      "image/png": "[encoded data removed]",
      "text/plain": [
       "<Figure size 1440x1440 with 2 Axes>"
      ]
     },
     "metadata": {
      "needs_background": "light"
     },
     "output_type": "display_data"
    }
   ],
   "source": [
    "# Correlation heatmap to remove highly correlated measurements\n",
    "plt.figure(figsize=(20,20))\n",
    "ax = sn.heatmap(shirt_df.corr().abs().round(2)>=0.85, \n",
    "                 annot=True, annot_kws = { \"size\" : 5 }, square=True, cbar=True)"
   ]
  },
  {
   "cell_type": "code",
   "execution_count": 12,
   "metadata": {},
   "outputs": [],
   "source": [
    "# Filtering out highly correlated variables leaves us with 13 measurements\n",
    "shirt_new = shirt_df[[\"Heightin\", \"neckcircumferencebase\", \"shoulderlength\", \"biacromialbreadth\",\n",
    "             \"interscyei\", \"acromionradialelength\", \"forearmhandlength\", \"chestbreadth\",\n",
    "             \"chestcircumference\", \"bicepscircumferenceflexed\", \"bicristalbreadth\",\n",
    "             \"waistfrontlengthsitting\", \"wristcircumference\"]]"
   ]
  },
  {
   "cell_type": "code",
   "execution_count": 13,
   "metadata": {},
   "outputs": [],
   "source": [
    "# Bringing all measurements to the same scale for clustering\n",
    "mms = MinMaxScaler()\n",
    "mms.fit(shirt_new) \n",
    "shirt_scaled = pd.DataFrame(mms.transform(shirt_new),\n",
    "                        columns = shirt_new.columns)"
   ]
  },
  {
   "cell_type": "code",
   "execution_count": 14,
   "metadata": {},
   "outputs": [
    {
     "data": {
      "image/png": "[encoded data removed]",
      "text/plain": [
       "<Figure size 432x288 with 1 Axes>"
      ]
     },
     "metadata": {
      "needs_background": "light"
     },
     "output_type": "display_data"
    }
   ],
   "source": [
    "# Calculating sum of squared distances to find optimal number of clusters using elbow method\n",
    "Sum_of_squared_distances = []\n",
    "K = range(1,15)\n",
    "for k in K:\n",
    "    km = KMeans(n_clusters=k)\n",
    "    km = km.fit(shirt_scaled)\n",
    "    Sum_of_squared_distances.append(km.inertia_)\n",
    "plt.plot(K, Sum_of_squared_distances, 'bx-')\n",
    "plt.xlabel('k')\n",
    "plt.ylabel('Sum_of_squared_distances')\n",
    "plt.title('Elbow Method For Optimal k')\n",
    "plt.show()"
   ]
  },
  {
   "cell_type": "code",
   "execution_count": 15,
   "metadata": {},
   "outputs": [
    {
     "data": {
      "text/plain": [
       "KMeans(algorithm='auto', copy_x=True, init='k-means++', max_iter=300,\n",
       "       n_clusters=6, n_init=10, n_jobs=None, precompute_distances='auto',\n",
       "       random_state=None, tol=0.0001, verbose=0)"
      ]
     },
     "execution_count": 15,
     "metadata": {},
     "output_type": "execute_result"
    }
   ],
   "source": [
    "# Using kmeans to find clusters\n",
    "kmeans = KMeans(n_clusters=6)\n",
    "kmeans.fit(shirt_scaled)"
   ]
  },
  {
   "cell_type": "code",
   "execution_count": 16,
   "metadata": {},
   "outputs": [],
   "source": [
    "# Labeling clusters\n",
    "shirt_scaled[\"cluster\"] = kmeans.labels_"
   ]
  },
  {
   "cell_type": "code",
   "execution_count": 17,
   "metadata": {},
   "outputs": [
    {
     "data": {
      "text/plain": [
       "4    870\n",
       "2    817\n",
       "0    719\n",
       "5    702\n",
       "1    490\n",
       "3    484\n",
       "Name: cluster, dtype: int64"
      ]
     },
     "execution_count": 17,
     "metadata": {},
     "output_type": "execute_result"
    }
   ],
   "source": [
    "shirt_scaled[\"cluster\"].value_counts()"
   ]
  },
  {
   "cell_type": "markdown",
   "metadata": {},
   "source": [
    "### Classification using Logistic Regression and Random Forest to find Feature Importance"
   ]
  },
  {
   "cell_type": "code",
   "execution_count": 18,
   "metadata": {},
   "outputs": [],
   "source": [
    "# Splitting scaled data into train test\n",
    "x_train, x_test, y_train, y_test = train_test_split(\n",
    "    shirt_scaled.drop(['cluster'],axis=1), shirt_scaled['cluster'], test_size=.25, random_state=42)"
   ]
  },
  {
   "cell_type": "code",
   "execution_count": 19,
   "metadata": {},
   "outputs": [
    {
     "data": {
      "text/plain": [
       "LogisticRegression(C=1.0, class_weight=None, dual=False, fit_intercept=True,\n",
       "                   intercept_scaling=1, l1_ratio=None, max_iter=100,\n",
       "                   multi_class='auto', n_jobs=None, penalty='l2',\n",
       "                   random_state=None, solver='lbfgs', tol=0.0001, verbose=0,\n",
       "                   warm_start=False)"
      ]
     },
     "execution_count": 19,
     "metadata": {},
     "output_type": "execute_result"
    }
   ],
   "source": [
    "# Running Logistic Regression on train data\n",
    "model_logit = LogisticRegression()\n",
    "model_logit.fit(x_train, y_train)"
   ]
  },
  {
   "cell_type": "code",
   "execution_count": 20,
   "metadata": {},
   "outputs": [
    {
     "data": {
      "text/plain": [
       "95.622"
      ]
     },
     "execution_count": 20,
     "metadata": {},
     "output_type": "execute_result"
    }
   ],
   "source": [
    "# using the model to make predictions with the test data\n",
    "y_pred = model_logit.predict(x_test)\n",
    "# calculating model fit\n",
    "round(model_logit.score(x_train,y_train)*100,3)\n"
   ]
  },
  {
   "cell_type": "code",
   "execution_count": 21,
   "metadata": {},
   "outputs": [
    {
     "name": "stdout",
     "output_type": "stream",
     "text": [
      "Mean Squared Error 0.204\n",
      "----------------------------------------------------------------------------------------------------\n",
      "[[166   2   1   0   3   0]\n",
      " [  4 118   0   0   4   0]\n",
      " [  1   0 195   0   2   0]\n",
      " [  0   0   4 124   0   8]\n",
      " [  1   0   1   0 202   0]\n",
      " [  0   0   4   1   6 174]]\n",
      "----------------------------------------------------------------------------------------------------\n",
      "              precision    recall  f1-score   support\n",
      "\n",
      "           0       0.97      0.97      0.97       172\n",
      "           1       0.98      0.94      0.96       126\n",
      "           2       0.95      0.98      0.97       198\n",
      "           3       0.99      0.91      0.95       136\n",
      "           4       0.93      0.99      0.96       204\n",
      "           5       0.96      0.94      0.95       185\n",
      "\n",
      "    accuracy                           0.96      1021\n",
      "   macro avg       0.96      0.95      0.96      1021\n",
      "weighted avg       0.96      0.96      0.96      1021\n",
      "\n"
     ]
    }
   ],
   "source": [
    "# Classification Results on Test Data\n",
    "print(\"Mean Squared Error\",round(mean_squared_error(y_test,y_pred),3))\n",
    "print(\"-\"*100)\n",
    "print(confusion_matrix(y_test, y_pred))\n",
    "print(\"-\"*100)\n",
    "print(classification_report(y_test, y_pred))"
   ]
  },
  {
   "cell_type": "code",
   "execution_count": 23,
   "metadata": {},
   "outputs": [
    {
     "data": {
      "image/png": "[encoded data removed]",
      "text/plain": [
       "<Figure size 504x504 with 1 Axes>"
      ]
     },
     "metadata": {
      "needs_background": "light"
     },
     "output_type": "display_data"
    }
   ],
   "source": [
    "# Calculating feature importance from Logistic Regression Results\n",
    "feature_importance_l = abs(model_logit.coef_[0])\n",
    "feature_importance_l = 100.0 * (feature_importance_l / feature_importance_l.max())\n",
    "sorted_idx = np.argsort(feature_importance_l)\n",
    "pos = np.arange(sorted_idx.shape[0]) + .5\n",
    "\n",
    "featfig = plt.figure(figsize=(7,7))\n",
    "featax = featfig.add_subplot(1, 1, 1)\n",
    "featax.barh(pos, feature_importance_l[sorted_idx], align='center')\n",
    "featax.set_yticks(pos)\n",
    "featax.set_yticklabels(np.array(shirt_scaled.drop(['cluster'],axis=1).columns)[sorted_idx], fontsize=8)\n",
    "featax.set_xlabel('Relative Feature Importance')\n",
    "\n",
    "plt.show()"
   ]
  },
  {
   "cell_type": "code",
   "execution_count": 24,
   "metadata": {},
   "outputs": [
    {
     "name": "stdout",
     "output_type": "stream",
     "text": [
      "Accuracy on train set 100.0 %\n",
      "Accuracy on test set 88.834 %\n",
      "Mean Squared Error 0.642\n",
      "----------------------------------------------------------------------------------------------------\n",
      "[[154   4   5   0   9   0]\n",
      " [  3 120   0   0   3   0]\n",
      " [ 11   0 178   3   3   3]\n",
      " [  0   0  10 119   0   7]\n",
      " [  6   5   6   0 182   5]\n",
      " [  0   0  15   4  12 154]]\n",
      "----------------------------------------------------------------------------------------------------\n",
      "              precision    recall  f1-score   support\n",
      "\n",
      "           0       0.89      0.90      0.89       172\n",
      "           1       0.93      0.95      0.94       126\n",
      "           2       0.83      0.90      0.86       198\n",
      "           3       0.94      0.88      0.91       136\n",
      "           4       0.87      0.89      0.88       204\n",
      "           5       0.91      0.83      0.87       185\n",
      "\n",
      "    accuracy                           0.89      1021\n",
      "   macro avg       0.90      0.89      0.89      1021\n",
      "weighted avg       0.89      0.89      0.89      1021\n",
      "\n"
     ]
    }
   ],
   "source": [
    "# Running RandomForecast for classification\n",
    "model_rf = RandomForestClassifier(random_state=42, class_weight='balanced')\n",
    "model_rf.fit(x_train,y_train)\n",
    "\n",
    "print(\"Accuracy on train set\",round(model_rf.score(x_train,y_train)*100,3),\"%\")\n",
    "print(\"Accuracy on test set\",round(model_rf.score(x_test,y_test)*100,3),\"%\")\n",
    "\n",
    "rf_pred = model_rf.predict(x_test)\n",
    "print(\"Mean Squared Error\",round(mean_squared_error(y_test,rf_pred),3))\n",
    "\n",
    "# Classification results\n",
    "print(\"-\"*100)\n",
    "print(confusion_matrix(y_test, rf_pred))\n",
    "print(\"-\"*100)\n",
    "print(classification_report(y_test, rf_pred))"
   ]
  },
  {
   "cell_type": "code",
   "execution_count": 25,
   "metadata": {},
   "outputs": [
    {
     "data": {
      "text/plain": [
       "RandomizedSearchCV(cv=None, error_score=nan,\n",
       "                   estimator=RandomForestClassifier(bootstrap=True,\n",
       "                                                    ccp_alpha=0.0,\n",
       "                                                    class_weight='balanced',\n",
       "                                                    criterion='gini',\n",
       "                                                    max_depth=None,\n",
       "                                                    max_features='auto',\n",
       "                                                    max_leaf_nodes=None,\n",
       "                                                    max_samples=None,\n",
       "                                                    min_impurity_decrease=0.0,\n",
       "                                                    min_impurity_split=None,\n",
       "                                                    min_samples_leaf=1,\n",
       "                                                    min_samples_split=2,\n",
       "                                                    min_weight_fraction_leaf=0.0,\n",
       "                                                    n_estimators=1...\n",
       "                   param_distributions={'bootstrap': [True, False],\n",
       "                                        'max_depth': [2, 3, 4, 5, 6, 7, 8, 9,\n",
       "                                                      10, 11, 12, 13, 14, 15,\n",
       "                                                      16],\n",
       "                                        'max_features': [2, 4, 6, 8],\n",
       "                                        'min_samples_leaf': [3, 7, 8, 10],\n",
       "                                        'min_samples_split': [4, 6, 8, 10, 12,\n",
       "                                                              14, 16, 18, 20],\n",
       "                                        'n_estimators': [200, 400, 600, 800,\n",
       "                                                         1000, 1200, 1400, 1600,\n",
       "                                                         1800, 2000]},\n",
       "                   pre_dispatch='2*n_jobs', random_state=None, refit=True,\n",
       "                   return_train_score=False, scoring=None, verbose=0)"
      ]
     },
     "execution_count": 25,
     "metadata": {},
     "output_type": "execute_result"
    }
   ],
   "source": [
    "# Defining parameters for cross validation\n",
    "params_rf = {'max_depth': [i for i in range(2,17)],\n",
    "          'max_features': [i for i in range(2,10,2)],\n",
    "          'min_samples_leaf': [3,7,8,10],\n",
    "          'min_samples_split': [z for z in range(4,21,2)],\n",
    "          'n_estimators':[int(x) for x in np.linspace(start = 200, stop = 2000, num = 10)],\n",
    "          'bootstrap': [True, False]}\n",
    "\n",
    "# Running Cross Validated Random Forest\n",
    "random_search_rf = RandomizedSearchCV(model_rf, param_distributions=params_rf, n_jobs=-1)\n",
    "random_search_rf.fit(x_train,y_train)"
   ]
  },
  {
   "cell_type": "code",
   "execution_count": 26,
   "metadata": {},
   "outputs": [
    {
     "data": {
      "text/plain": [
       "{'n_estimators': 800,\n",
       " 'min_samples_split': 4,\n",
       " 'min_samples_leaf': 7,\n",
       " 'max_features': 2,\n",
       " 'max_depth': 12,\n",
       " 'bootstrap': True}"
      ]
     },
     "execution_count": 26,
     "metadata": {},
     "output_type": "execute_result"
    }
   ],
   "source": [
    "random_search_rf.best_params_"
   ]
  },
  {
   "cell_type": "code",
   "execution_count": 27,
   "metadata": {},
   "outputs": [
    {
     "data": {
      "text/plain": [
       "RandomForestClassifier(bootstrap=True, ccp_alpha=0.0, class_weight='balanced',\n",
       "                       criterion='gini', max_depth=8, max_features=2,\n",
       "                       max_leaf_nodes=None, max_samples=None,\n",
       "                       min_impurity_decrease=0.0, min_impurity_split=None,\n",
       "                       min_samples_leaf=8, min_samples_split=10,\n",
       "                       min_weight_fraction_leaf=0.0, n_estimators=1800,\n",
       "                       n_jobs=None, oob_score=False, random_state=42, verbose=0,\n",
       "                       warm_start=False)"
      ]
     },
     "execution_count": 27,
     "metadata": {},
     "output_type": "execute_result"
    }
   ],
   "source": [
    "# Running tuned Random Forest on train data\n",
    "tuned_rf = RandomForestClassifier(random_state=42, class_weight='balanced', n_estimators= 1800, \n",
    "                                  min_samples_split= 10, min_samples_leaf= 8,\n",
    "                                  max_features= 2, max_depth=8, bootstrap=True)\n",
    "tuned_rf.fit(x_train,y_train)"
   ]
  },
  {
   "cell_type": "code",
   "execution_count": 28,
   "metadata": {},
   "outputs": [
    {
     "name": "stdout",
     "output_type": "stream",
     "text": [
      "Accuracy on train set 95.394 %\n",
      "Accuracy on test set 88.541 %\n",
      "Mean Squared Error 0.685\n",
      "----------------------------------------------------------------------------------------------------\n",
      "[[152   4   6   0  10   0]\n",
      " [  4 119   0   0   3   0]\n",
      " [  9   0 177   5   4   3]\n",
      " [  0   0   3 128   0   5]\n",
      " [  7   7   8   0 170  12]\n",
      " [  0   0  14   5   8 158]]\n",
      "----------------------------------------------------------------------------------------------------\n",
      "              precision    recall  f1-score   support\n",
      "\n",
      "           0       0.88      0.88      0.88       172\n",
      "           1       0.92      0.94      0.93       126\n",
      "           2       0.85      0.89      0.87       198\n",
      "           3       0.93      0.94      0.93       136\n",
      "           4       0.87      0.83      0.85       204\n",
      "           5       0.89      0.85      0.87       185\n",
      "\n",
      "    accuracy                           0.89      1021\n",
      "   macro avg       0.89      0.89      0.89      1021\n",
      "weighted avg       0.89      0.89      0.89      1021\n",
      "\n"
     ]
    }
   ],
   "source": [
    "# Classification results of tuned Random Forest\n",
    "print(\"Accuracy on train set\",round(tuned_rf.score(x_train,y_train)*100,3),\"%\")\n",
    "print(\"Accuracy on test set\",round(tuned_rf.score(x_test,y_test)*100,3),\"%\")\n",
    "\n",
    "tuned_rf_pred = tuned_rf.predict(x_test)\n",
    "print(\"Mean Squared Error\",round(mean_squared_error(y_test,tuned_rf_pred),3))\n",
    "\n",
    "print(\"-\"*100)\n",
    "print(confusion_matrix(y_test, tuned_rf_pred))\n",
    "print(\"-\"*100)\n",
    "print(classification_report(y_test, tuned_rf_pred))"
   ]
  },
  {
   "cell_type": "code",
   "execution_count": 31,
   "metadata": {},
   "outputs": [
    {
     "data": {
      "text/html": [
       "<div>\n",
       "<style scoped>\n",
       "    .dataframe tbody tr th:only-of-type {\n",
       "        vertical-align: middle;\n",
       "    }\n",
       "\n",
       "    .dataframe tbody tr th {\n",
       "        vertical-align: top;\n",
       "    }\n",
       "\n",
       "    .dataframe thead th {\n",
       "        text-align: right;\n",
       "    }\n",
       "</style>\n",
       "<table border=\"1\" class=\"dataframe\">\n",
       "  <thead>\n",
       "    <tr style=\"text-align: right;\">\n",
       "      <th></th>\n",
       "      <th>importance</th>\n",
       "    </tr>\n",
       "  </thead>\n",
       "  <tbody>\n",
       "    <tr>\n",
       "      <th>chestcircumference</th>\n",
       "      <td>0.156070</td>\n",
       "    </tr>\n",
       "    <tr>\n",
       "      <th>biacromialbreadth</th>\n",
       "      <td>0.104677</td>\n",
       "    </tr>\n",
       "    <tr>\n",
       "      <th>forearmhandlength</th>\n",
       "      <td>0.094190</td>\n",
       "    </tr>\n",
       "    <tr>\n",
       "      <th>chestbreadth</th>\n",
       "      <td>0.090404</td>\n",
       "    </tr>\n",
       "    <tr>\n",
       "      <th>Heightin</th>\n",
       "      <td>0.084082</td>\n",
       "    </tr>\n",
       "    <tr>\n",
       "      <th>neckcircumferencebase</th>\n",
       "      <td>0.083728</td>\n",
       "    </tr>\n",
       "    <tr>\n",
       "      <th>acromionradialelength</th>\n",
       "      <td>0.075701</td>\n",
       "    </tr>\n",
       "    <tr>\n",
       "      <th>interscyei</th>\n",
       "      <td>0.066458</td>\n",
       "    </tr>\n",
       "    <tr>\n",
       "      <th>bicepscircumferenceflexed</th>\n",
       "      <td>0.060759</td>\n",
       "    </tr>\n",
       "    <tr>\n",
       "      <th>wristcircumference</th>\n",
       "      <td>0.057298</td>\n",
       "    </tr>\n",
       "    <tr>\n",
       "      <th>bicristalbreadth</th>\n",
       "      <td>0.054391</td>\n",
       "    </tr>\n",
       "    <tr>\n",
       "      <th>shoulderlength</th>\n",
       "      <td>0.048623</td>\n",
       "    </tr>\n",
       "    <tr>\n",
       "      <th>waistfrontlengthsitting</th>\n",
       "      <td>0.023618</td>\n",
       "    </tr>\n",
       "  </tbody>\n",
       "</table>\n",
       "</div>"
      ],
      "text/plain": [
       "                           importance\n",
       "chestcircumference           0.156070\n",
       "biacromialbreadth            0.104677\n",
       "forearmhandlength            0.094190\n",
       "chestbreadth                 0.090404\n",
       "Heightin                     0.084082\n",
       "neckcircumferencebase        0.083728\n",
       "acromionradialelength        0.075701\n",
       "interscyei                   0.066458\n",
       "bicepscircumferenceflexed    0.060759\n",
       "wristcircumference           0.057298\n",
       "bicristalbreadth             0.054391\n",
       "shoulderlength               0.048623\n",
       "waistfrontlengthsitting      0.023618"
      ]
     },
     "execution_count": 31,
     "metadata": {},
     "output_type": "execute_result"
    }
   ],
   "source": [
    "# feature importances based on Random Forest\n",
    "importances = tuned_rf.feature_importances_\n",
    "features = pd.DataFrame(data = importances, columns = [\"importance\"], \n",
    "                        index = shirt_scaled.drop(['cluster'],axis=1).columns)\n",
    "features.sort_values('importance',ascending=False)"
   ]
  },
  {
   "cell_type": "code",
   "execution_count": 35,
   "metadata": {},
   "outputs": [
    {
     "name": "stdout",
     "output_type": "stream",
     "text": [
      "0.282850882020392\n",
      "0.26648656584936126\n",
      "0.4100472865281826\n",
      "0.5890748558178249\n",
      "0.4083585545356818\n",
      "0.5168706060792391\n"
     ]
    }
   ],
   "source": [
    "# chestcircumfrence values for each cluster (centroid)\n",
    "for cluster in kmeans.cluster_centers_:\n",
    "    print(cluster[8])"
   ]
  },
  {
   "cell_type": "code",
   "execution_count": null,
   "metadata": {},
   "outputs": [],
   "source": []
  }
 ],
 "metadata": {
  "kernelspec": {
   "display_name": "Python 3",
   "language": "python",
   "name": "python3"
  },
  "language_info": {
   "codemirror_mode": {
    "name": "ipython",
    "version": 3
   },
   "file_extension": ".py",
   "mimetype": "text/x-python",
   "name": "python",
   "nbconvert_exporter": "python",
   "pygments_lexer": "ipython3",
   "version": "3.7.7"
  }
 },
 "nbformat": 4,
 "nbformat_minor": 4
}
