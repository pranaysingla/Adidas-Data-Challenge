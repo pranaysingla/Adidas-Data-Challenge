{
 "cells": [
  {
   "cell_type": "code",
   "execution_count": 357,
   "metadata": {},
   "outputs": [],
   "source": [
    "import pandas as pd\n",
    "import numpy as np\n",
    "import matplotlib.pyplot as plt\n",
    "import seaborn as sn\n",
    "\n",
    "from sklearn.tree import DecisionTreeClassifier\n",
    "from sklearn.ensemble import RandomForestClassifier\n",
    "from sklearn.model_selection import train_test_split\n",
    "from sklearn.cluster import KMeans\n",
    "from sklearn.metrics import silhouette_samples, silhouette_score\n",
    "import matplotlib.cm as cm\n",
    "from sklearn.preprocessing import MinMaxScaler\n",
    "from sklearn.linear_model import LogisticRegression\n",
    "from sklearn.metrics import recall_score, roc_auc_score, mean_squared_error, confusion_matrix, classification_report, f1_score\n",
    "from sklearn.model_selection import train_test_split, cross_val_score, GridSearchCV, RandomizedSearchCV\n",
    "\n",
    "%matplotlib inline\n",
    "\n",
    "import warnings\n",
    "warnings.filterwarnings(\"ignore\")"
   ]
  },
  {
   "cell_type": "code",
   "execution_count": 358,
   "metadata": {},
   "outputs": [],
   "source": [
    "data_raw = pd.read_csv(\"ANSUR II MALE Public.csv\", encoding = \"ISO-8859-1\", header=0)"
   ]
  },
  {
   "cell_type": "code",
   "execution_count": 359,
   "metadata": {},
   "outputs": [
    {
     "data": {
      "text/html": [
       "<div>\n",
       "<style scoped>\n",
       "    .dataframe tbody tr th:only-of-type {\n",
       "        vertical-align: middle;\n",
       "    }\n",
       "\n",
       "    .dataframe tbody tr th {\n",
       "        vertical-align: top;\n",
       "    }\n",
       "\n",
       "    .dataframe thead th {\n",
       "        text-align: right;\n",
       "    }\n",
       "</style>\n",
       "<table border=\"1\" class=\"dataframe\">\n",
       "  <thead>\n",
       "    <tr style=\"text-align: right;\">\n",
       "      <th></th>\n",
       "      <th>subjectid</th>\n",
       "      <th>abdominalextensiondepthsitting</th>\n",
       "      <th>acromialheight</th>\n",
       "      <th>acromionradialelength</th>\n",
       "      <th>anklecircumference</th>\n",
       "      <th>axillaheight</th>\n",
       "      <th>balloffootcircumference</th>\n",
       "      <th>balloffootlength</th>\n",
       "      <th>biacromialbreadth</th>\n",
       "      <th>bicepscircumferenceflexed</th>\n",
       "      <th>...</th>\n",
       "      <th>Branch</th>\n",
       "      <th>PrimaryMOS</th>\n",
       "      <th>SubjectsBirthLocation</th>\n",
       "      <th>SubjectNumericRace</th>\n",
       "      <th>Ethnicity</th>\n",
       "      <th>DODRace</th>\n",
       "      <th>Age</th>\n",
       "      <th>Heightin</th>\n",
       "      <th>Weightlbs</th>\n",
       "      <th>WritingPreference</th>\n",
       "    </tr>\n",
       "  </thead>\n",
       "  <tbody>\n",
       "    <tr>\n",
       "      <td>0</td>\n",
       "      <td>10027</td>\n",
       "      <td>266</td>\n",
       "      <td>1467</td>\n",
       "      <td>337</td>\n",
       "      <td>222</td>\n",
       "      <td>1347</td>\n",
       "      <td>253</td>\n",
       "      <td>202</td>\n",
       "      <td>401</td>\n",
       "      <td>369</td>\n",
       "      <td>...</td>\n",
       "      <td>Combat Arms</td>\n",
       "      <td>19D</td>\n",
       "      <td>North Dakota</td>\n",
       "      <td>1</td>\n",
       "      <td>NaN</td>\n",
       "      <td>1</td>\n",
       "      <td>41</td>\n",
       "      <td>71</td>\n",
       "      <td>180</td>\n",
       "      <td>Right hand</td>\n",
       "    </tr>\n",
       "    <tr>\n",
       "      <td>1</td>\n",
       "      <td>10032</td>\n",
       "      <td>233</td>\n",
       "      <td>1395</td>\n",
       "      <td>326</td>\n",
       "      <td>220</td>\n",
       "      <td>1293</td>\n",
       "      <td>245</td>\n",
       "      <td>193</td>\n",
       "      <td>394</td>\n",
       "      <td>338</td>\n",
       "      <td>...</td>\n",
       "      <td>Combat Support</td>\n",
       "      <td>68W</td>\n",
       "      <td>New York</td>\n",
       "      <td>1</td>\n",
       "      <td>NaN</td>\n",
       "      <td>1</td>\n",
       "      <td>35</td>\n",
       "      <td>68</td>\n",
       "      <td>160</td>\n",
       "      <td>Left hand</td>\n",
       "    </tr>\n",
       "    <tr>\n",
       "      <td>2</td>\n",
       "      <td>10033</td>\n",
       "      <td>287</td>\n",
       "      <td>1430</td>\n",
       "      <td>341</td>\n",
       "      <td>230</td>\n",
       "      <td>1327</td>\n",
       "      <td>256</td>\n",
       "      <td>196</td>\n",
       "      <td>427</td>\n",
       "      <td>408</td>\n",
       "      <td>...</td>\n",
       "      <td>Combat Support</td>\n",
       "      <td>68W</td>\n",
       "      <td>New York</td>\n",
       "      <td>2</td>\n",
       "      <td>NaN</td>\n",
       "      <td>2</td>\n",
       "      <td>42</td>\n",
       "      <td>68</td>\n",
       "      <td>205</td>\n",
       "      <td>Left hand</td>\n",
       "    </tr>\n",
       "    <tr>\n",
       "      <td>3</td>\n",
       "      <td>10092</td>\n",
       "      <td>234</td>\n",
       "      <td>1347</td>\n",
       "      <td>310</td>\n",
       "      <td>230</td>\n",
       "      <td>1239</td>\n",
       "      <td>262</td>\n",
       "      <td>199</td>\n",
       "      <td>401</td>\n",
       "      <td>359</td>\n",
       "      <td>...</td>\n",
       "      <td>Combat Service Support</td>\n",
       "      <td>88M</td>\n",
       "      <td>Wisconsin</td>\n",
       "      <td>1</td>\n",
       "      <td>NaN</td>\n",
       "      <td>1</td>\n",
       "      <td>31</td>\n",
       "      <td>66</td>\n",
       "      <td>175</td>\n",
       "      <td>Right hand</td>\n",
       "    </tr>\n",
       "    <tr>\n",
       "      <td>4</td>\n",
       "      <td>10093</td>\n",
       "      <td>250</td>\n",
       "      <td>1585</td>\n",
       "      <td>372</td>\n",
       "      <td>247</td>\n",
       "      <td>1478</td>\n",
       "      <td>267</td>\n",
       "      <td>224</td>\n",
       "      <td>435</td>\n",
       "      <td>356</td>\n",
       "      <td>...</td>\n",
       "      <td>Combat Service Support</td>\n",
       "      <td>92G</td>\n",
       "      <td>North Carolina</td>\n",
       "      <td>2</td>\n",
       "      <td>NaN</td>\n",
       "      <td>2</td>\n",
       "      <td>21</td>\n",
       "      <td>77</td>\n",
       "      <td>213</td>\n",
       "      <td>Right hand</td>\n",
       "    </tr>\n",
       "  </tbody>\n",
       "</table>\n",
       "<p>5 rows × 108 columns</p>\n",
       "</div>"
      ],
      "text/plain": [
       "   subjectid  abdominalextensiondepthsitting  acromialheight  \\\n",
       "0      10027                             266            1467   \n",
       "1      10032                             233            1395   \n",
       "2      10033                             287            1430   \n",
       "3      10092                             234            1347   \n",
       "4      10093                             250            1585   \n",
       "\n",
       "   acromionradialelength  anklecircumference  axillaheight  \\\n",
       "0                    337                 222          1347   \n",
       "1                    326                 220          1293   \n",
       "2                    341                 230          1327   \n",
       "3                    310                 230          1239   \n",
       "4                    372                 247          1478   \n",
       "\n",
       "   balloffootcircumference  balloffootlength  biacromialbreadth  \\\n",
       "0                      253               202                401   \n",
       "1                      245               193                394   \n",
       "2                      256               196                427   \n",
       "3                      262               199                401   \n",
       "4                      267               224                435   \n",
       "\n",
       "   bicepscircumferenceflexed  ...                  Branch  PrimaryMOS  \\\n",
       "0                        369  ...             Combat Arms         19D   \n",
       "1                        338  ...          Combat Support         68W   \n",
       "2                        408  ...          Combat Support         68W   \n",
       "3                        359  ...  Combat Service Support         88M   \n",
       "4                        356  ...  Combat Service Support         92G   \n",
       "\n",
       "   SubjectsBirthLocation  SubjectNumericRace  Ethnicity  DODRace  Age  \\\n",
       "0           North Dakota                   1        NaN        1   41   \n",
       "1               New York                   1        NaN        1   35   \n",
       "2               New York                   2        NaN        2   42   \n",
       "3              Wisconsin                   1        NaN        1   31   \n",
       "4         North Carolina                   2        NaN        2   21   \n",
       "\n",
       "   Heightin  Weightlbs  WritingPreference  \n",
       "0        71        180         Right hand  \n",
       "1        68        160          Left hand  \n",
       "2        68        205          Left hand  \n",
       "3        66        175         Right hand  \n",
       "4        77        213         Right hand  \n",
       "\n",
       "[5 rows x 108 columns]"
      ]
     },
     "execution_count": 359,
     "metadata": {},
     "output_type": "execute_result"
    }
   ],
   "source": [
    "data_raw.head()"
   ]
  },
  {
   "cell_type": "code",
   "execution_count": 360,
   "metadata": {},
   "outputs": [
    {
     "data": {
      "text/plain": [
       "0       10027\n",
       "1       10032\n",
       "2       10033\n",
       "3       10092\n",
       "4       10093\n",
       "        ...  \n",
       "4077    29442\n",
       "4078    29443\n",
       "4079    29447\n",
       "4080    29451\n",
       "4081    29452\n",
       "Name: subjectid, Length: 4082, dtype: int64"
      ]
     },
     "execution_count": 360,
     "metadata": {},
     "output_type": "execute_result"
    }
   ],
   "source": [
    "data_raw[\"subjectid\"]"
   ]
  },
  {
   "cell_type": "code",
   "execution_count": 361,
   "metadata": {},
   "outputs": [
    {
     "name": "stdout",
     "output_type": "stream",
     "text": [
      "<class 'pandas.core.frame.DataFrame'>\n",
      "RangeIndex: 4082 entries, 0 to 4081\n",
      "Columns: 108 entries, subjectid to WritingPreference\n",
      "dtypes: int64(99), object(9)\n",
      "memory usage: 3.4+ MB\n"
     ]
    }
   ],
   "source": [
    "data_raw.info()"
   ]
  },
  {
   "cell_type": "code",
   "execution_count": 362,
   "metadata": {},
   "outputs": [],
   "source": [
    "df = data_raw[[\"cervicaleheight\", \"chestbreadth\", \"chestcircumference\", \"chestdepth\", \"chestheight\", \"elbowrestheight\",\n",
    "         \"forearmcenterofgriplength\", \"forearmcircumferenceflexed\", \"forearmforearmbreadth\", \"forearmhandlength\",\n",
    "         \"abdominalextensiondepthsitting\", \"acromionradialelength\", \"biacromialbreadth\", \"bicepscircumferenceflexed\", \n",
    "         \"bicristalbreadth\", \"bideltoidbreadth\", \"waistbreadth\", \"waistcircumference\", \"waistdepth\", \"waistfrontlengthsitting\",\n",
    "         \"wristcircumference\", \"wristheight\", \"Heightin\", \"neckcircumferencebase\", \"shoulderlength\", \"waistbacklength\", \n",
    "         \"hipbreadth\", \"hipbreadthsitting\", \"interscyei\", \"interscyeii\"]]"
   ]
  },
  {
   "cell_type": "code",
   "execution_count": 363,
   "metadata": {},
   "outputs": [
    {
     "name": "stdout",
     "output_type": "stream",
     "text": [
      "<class 'pandas.core.frame.DataFrame'>\n",
      "RangeIndex: 4082 entries, 0 to 4081\n",
      "Data columns (total 30 columns):\n",
      "cervicaleheight                   4082 non-null int64\n",
      "chestbreadth                      4082 non-null int64\n",
      "chestcircumference                4082 non-null int64\n",
      "chestdepth                        4082 non-null int64\n",
      "chestheight                       4082 non-null int64\n",
      "elbowrestheight                   4082 non-null int64\n",
      "forearmcenterofgriplength         4082 non-null int64\n",
      "forearmcircumferenceflexed        4082 non-null int64\n",
      "forearmforearmbreadth             4082 non-null int64\n",
      "forearmhandlength                 4082 non-null int64\n",
      "abdominalextensiondepthsitting    4082 non-null int64\n",
      "acromionradialelength             4082 non-null int64\n",
      "biacromialbreadth                 4082 non-null int64\n",
      "bicepscircumferenceflexed         4082 non-null int64\n",
      "bicristalbreadth                  4082 non-null int64\n",
      "bideltoidbreadth                  4082 non-null int64\n",
      "waistbreadth                      4082 non-null int64\n",
      "waistcircumference                4082 non-null int64\n",
      "waistdepth                        4082 non-null int64\n",
      "waistfrontlengthsitting           4082 non-null int64\n",
      "wristcircumference                4082 non-null int64\n",
      "wristheight                       4082 non-null int64\n",
      "Heightin                          4082 non-null int64\n",
      "neckcircumferencebase             4082 non-null int64\n",
      "shoulderlength                    4082 non-null int64\n",
      "waistbacklength                   4082 non-null int64\n",
      "hipbreadth                        4082 non-null int64\n",
      "hipbreadthsitting                 4082 non-null int64\n",
      "interscyei                        4082 non-null int64\n",
      "interscyeii                       4082 non-null int64\n",
      "dtypes: int64(30)\n",
      "memory usage: 956.8 KB\n"
     ]
    }
   ],
   "source": [
    "df.info()"
   ]
  },
  {
   "cell_type": "code",
   "execution_count": 385,
   "metadata": {},
   "outputs": [
    {
     "data": {
      "image/png": "[encoded data removed]",
      "text/plain": [
       "<Figure size 1440x1440 with 2 Axes>"
      ]
     },
     "metadata": {
      "needs_background": "light"
     },
     "output_type": "display_data"
    }
   ],
   "source": [
    "plt.figure(figsize=(20,20))\n",
    "ax = sn.heatmap(df.corr().abs().round(2)>=0.85, \n",
    "                 annot=True, annot_kws = { \"size\" : 5 }, square=True, cbar=True)"
   ]
  },
  {
   "cell_type": "code",
   "execution_count": 365,
   "metadata": {},
   "outputs": [],
   "source": [
    "df_new = df[[\"Heightin\", \"neckcircumferencebase\", \"shoulderlength\", \"biacromialbreadth\",\n",
    "             \"interscyei\", \"acromionradialelength\", \"forearmhandlength\", \"chestbreadth\",\n",
    "             \"chestcircumference\", \"bicepscircumferenceflexed\", \"bicristalbreadth\",\n",
    "             \"waistfrontlengthsitting\", \"wristcircumference\"]]"
   ]
  },
  {
   "cell_type": "code",
   "execution_count": 366,
   "metadata": {},
   "outputs": [],
   "source": [
    "mms = MinMaxScaler()\n",
    "mms.fit(df_new) \n",
    "df_scaled = pd.DataFrame(mms.transform(df_new),\n",
    "                        columns = df_new.columns)"
   ]
  },
  {
   "cell_type": "code",
   "execution_count": 367,
   "metadata": {},
   "outputs": [
    {
     "data": {
      "image/png": "[encoded data removed]",
      "text/plain": [
       "<Figure size 432x288 with 1 Axes>"
      ]
     },
     "metadata": {
      "needs_background": "light"
     },
     "output_type": "display_data"
    }
   ],
   "source": [
    "Sum_of_squared_distances = []\n",
    "K = range(1,15)\n",
    "for k in K:\n",
    "    km = KMeans(n_clusters=k)\n",
    "    km = km.fit(df_scaled)\n",
    "    Sum_of_squared_distances.append(km.inertia_)\n",
    "plt.plot(K, Sum_of_squared_distances, 'bx-')\n",
    "plt.xlabel('k')\n",
    "plt.ylabel('Sum_of_squared_distances')\n",
    "plt.title('Elbow Method For Optimal k')\n",
    "plt.show()"
   ]
  },
  {
   "cell_type": "code",
   "execution_count": 368,
   "metadata": {},
   "outputs": [
    {
     "data": {
      "text/plain": [
       "KMeans(algorithm='auto', copy_x=True, init='k-means++', max_iter=300,\n",
       "       n_clusters=6, n_init=10, n_jobs=None, precompute_distances='auto',\n",
       "       random_state=None, tol=0.0001, verbose=0)"
      ]
     },
     "execution_count": 368,
     "metadata": {},
     "output_type": "execute_result"
    }
   ],
   "source": [
    "kmeans = KMeans(n_clusters=6)\n",
    "kmeans.fit(df_scaled)"
   ]
  },
  {
   "cell_type": "code",
   "execution_count": 369,
   "metadata": {},
   "outputs": [],
   "source": [
    "df_scaled[\"cluster\"] = kmeans.labels_"
   ]
  },
  {
   "cell_type": "code",
   "execution_count": 370,
   "metadata": {},
   "outputs": [
    {
     "data": {
      "text/plain": [
       "0    868\n",
       "5    816\n",
       "3    722\n",
       "2    709\n",
       "1    488\n",
       "4    479\n",
       "Name: cluster, dtype: int64"
      ]
     },
     "execution_count": 370,
     "metadata": {},
     "output_type": "execute_result"
    }
   ],
   "source": [
    "df_scaled[\"cluster\"].value_counts()"
   ]
  },
  {
   "cell_type": "code",
   "execution_count": 371,
   "metadata": {},
   "outputs": [],
   "source": [
    "x_train, x_test, y_train, y_test = train_test_split(\n",
    "    df_scaled.drop(['cluster'],axis=1), df_scaled['cluster'], test_size=.25, random_state=42)"
   ]
  },
  {
   "cell_type": "code",
   "execution_count": 372,
   "metadata": {},
   "outputs": [
    {
     "data": {
      "text/plain": [
       "LogisticRegression(C=1.0, class_weight=None, dual=False, fit_intercept=True,\n",
       "                   intercept_scaling=1, l1_ratio=None, max_iter=100,\n",
       "                   multi_class='warn', n_jobs=None, penalty='l2',\n",
       "                   random_state=None, solver='lbfgs', tol=0.0001, verbose=0,\n",
       "                   warm_start=False)"
      ]
     },
     "execution_count": 372,
     "metadata": {},
     "output_type": "execute_result"
    }
   ],
   "source": [
    "model_logit = LogisticRegression(solver = 'lbfgs')\n",
    "model_logit.fit(x_train, y_train)"
   ]
  },
  {
   "cell_type": "code",
   "execution_count": 373,
   "metadata": {},
   "outputs": [
    {
     "data": {
      "text/plain": [
       "89.415"
      ]
     },
     "execution_count": 373,
     "metadata": {},
     "output_type": "execute_result"
    }
   ],
   "source": [
    "# use the model to make predictions with the test data\n",
    "y_pred = model_logit.predict(x_test)\n",
    "# how did our model perform?\n",
    "round(model_logit.score(x_train,y_train)*100,3)\n"
   ]
  },
  {
   "cell_type": "code",
   "execution_count": 374,
   "metadata": {},
   "outputs": [
    {
     "name": "stdout",
     "output_type": "stream",
     "text": [
      "Mean Squared Error 0.545\n",
      "----------------------------------------------------------------------------------------------------\n",
      "[[197   0   2   0   0   5]\n",
      " [ 11 105   0  10   0   0]\n",
      " [ 29   0 148   0   0   9]\n",
      " [  5   0   0 164   0   3]\n",
      " [  0   0   6   0 117  12]\n",
      " [  2   0   0   8   0 188]]\n",
      "----------------------------------------------------------------------------------------------------\n",
      "              precision    recall  f1-score   support\n",
      "\n",
      "           0       0.81      0.97      0.88       204\n",
      "           1       1.00      0.83      0.91       126\n",
      "           2       0.95      0.80      0.87       186\n",
      "           3       0.90      0.95      0.93       172\n",
      "           4       1.00      0.87      0.93       135\n",
      "           5       0.87      0.95      0.91       198\n",
      "\n",
      "    accuracy                           0.90      1021\n",
      "   macro avg       0.92      0.89      0.90      1021\n",
      "weighted avg       0.91      0.90      0.90      1021\n",
      "\n"
     ]
    }
   ],
   "source": [
    "print(\"Mean Squared Error\",round(mean_squared_error(y_test,y_pred),3))\n",
    "#print(\"Roc Auc Score\",round(roc_auc_score(y_test,y_pred)*100,3),\"%\")\n",
    "#print(\"Mean of Cross-Validation Scores\",round(cross_val_score(model_logit,df_scaled.drop(['cluster'],axis=1), \n",
    "                                                    #df_scaled['cluster'],cv=5,scoring='roc_auc').mean(),3))\n",
    "print(\"-\"*100)\n",
    "print(confusion_matrix(y_test, y_pred))\n",
    "print(\"-\"*100)\n",
    "print(classification_report(y_test, y_pred))"
   ]
  },
  {
   "cell_type": "code",
   "execution_count": 375,
   "metadata": {},
   "outputs": [
    {
     "data": {
      "image/png": "[encoded data removed]",
      "text/plain": [
       "<Figure size 504x504 with 1 Axes>"
      ]
     },
     "metadata": {
      "needs_background": "light"
     },
     "output_type": "display_data"
    }
   ],
   "source": [
    "feature_importance_l = abs(model_logit.coef_[0])\n",
    "feature_importance_l = 100.0 * (feature_importance_l / feature_importance_l.max())\n",
    "sorted_idx = np.argsort(feature_importance_l)\n",
    "pos = np.arange(sorted_idx.shape[0]) + .5\n",
    "\n",
    "featfig = plt.figure(figsize=(7,7))\n",
    "featax = featfig.add_subplot(1, 1, 1)\n",
    "featax.barh(pos, feature_importance_l[sorted_idx], align='center')\n",
    "featax.set_yticks(pos)\n",
    "featax.set_yticklabels(np.array(df_scaled.drop(['cluster'],axis=1).columns)[sorted_idx], fontsize=8)\n",
    "featax.set_xlabel('Relative Feature Importance')\n",
    "\n",
    "plt.show()\n",
    "#However the sklearn.linear_model.LogisticRegression does not provide the p-values so we are not able to make\n",
    "#any inference about the significance of each independent variable, for that reasons statsmodel"
   ]
  },
  {
   "cell_type": "code",
   "execution_count": 376,
   "metadata": {},
   "outputs": [
    {
     "name": "stdout",
     "output_type": "stream",
     "text": [
      "Accuracy on train set 99.575 %\n",
      "Accuracy on test set 82.272 %\n",
      "Mean Squared Error 1.139\n",
      "----------------------------------------------------------------------------------------------------\n",
      "[[173   7   8   7   0   9]\n",
      " [  5 117   0   4   0   0]\n",
      " [ 24   0 143   0   3  16]\n",
      " [ 15   8   0 140   0   9]\n",
      " [  0   0  20   0 103  12]\n",
      " [  5   0   9  14   6 164]]\n",
      "----------------------------------------------------------------------------------------------------\n",
      "              precision    recall  f1-score   support\n",
      "\n",
      "           0       0.78      0.85      0.81       204\n",
      "           1       0.89      0.93      0.91       126\n",
      "           2       0.79      0.77      0.78       186\n",
      "           3       0.85      0.81      0.83       172\n",
      "           4       0.92      0.76      0.83       135\n",
      "           5       0.78      0.83      0.80       198\n",
      "\n",
      "    accuracy                           0.82      1021\n",
      "   macro avg       0.83      0.83      0.83      1021\n",
      "weighted avg       0.83      0.82      0.82      1021\n",
      "\n"
     ]
    }
   ],
   "source": [
    "model_rf = RandomForestClassifier(random_state=42, class_weight='balanced')\n",
    "model_rf.fit(x_train,y_train)\n",
    "\n",
    "print(\"Accuracy on train set\",round(model_rf.score(x_train,y_train)*100,3),\"%\")\n",
    "print(\"Accuracy on test set\",round(model_rf.score(x_test,y_test)*100,3),\"%\")\n",
    "\n",
    "rf_pred = model_rf.predict(x_test)\n",
    "print(\"Mean Squared Error\",round(mean_squared_error(y_test,rf_pred),3))\n",
    "\n",
    "#print(\"Roc Auc Score\",round(roc_auc_score(y_test,rf_pred)*100,3),\"%\")\n",
    "#print(\"F1 score\",round(f1_score(y_test,rf_pred, average='weighted')*100,3),\"%\")\n",
    "#print(\"Mean of Cross-Validation Scores\",round(cross_val_score(model_rf,x_scaled, \n",
    " #                                                   y,cv=5,scoring='roc_auc').mean()*100,3),\"%\")\n",
    "print(\"-\"*100)\n",
    "print(confusion_matrix(y_test, rf_pred))\n",
    "print(\"-\"*100)\n",
    "print(classification_report(y_test, rf_pred))"
   ]
  },
  {
   "cell_type": "code",
   "execution_count": 377,
   "metadata": {},
   "outputs": [
    {
     "data": {
      "text/plain": [
       "RandomizedSearchCV(cv='warn', error_score='raise-deprecating',\n",
       "                   estimator=RandomForestClassifier(bootstrap=True,\n",
       "                                                    class_weight='balanced',\n",
       "                                                    criterion='gini',\n",
       "                                                    max_depth=None,\n",
       "                                                    max_features='auto',\n",
       "                                                    max_leaf_nodes=None,\n",
       "                                                    min_impurity_decrease=0.0,\n",
       "                                                    min_impurity_split=None,\n",
       "                                                    min_samples_leaf=1,\n",
       "                                                    min_samples_split=2,\n",
       "                                                    min_weight_fraction_leaf=0.0,\n",
       "                                                    n_estimators=10,\n",
       "                                                    n_jobs=None...\n",
       "                   param_distributions={'bootstrap': [True, False],\n",
       "                                        'max_depth': [2, 3, 4, 5, 6, 7, 8, 9,\n",
       "                                                      10, 11, 12, 13, 14, 15,\n",
       "                                                      16],\n",
       "                                        'max_features': [2, 4, 6, 8],\n",
       "                                        'min_samples_leaf': [3, 7, 8, 10],\n",
       "                                        'min_samples_split': [4, 6, 8, 10, 12,\n",
       "                                                              14, 16, 18, 20],\n",
       "                                        'n_estimators': [200, 400, 600, 800,\n",
       "                                                         1000, 1200, 1400, 1600,\n",
       "                                                         1800, 2000]},\n",
       "                   pre_dispatch='2*n_jobs', random_state=None, refit=True,\n",
       "                   return_train_score=False, scoring=None, verbose=0)"
      ]
     },
     "execution_count": 377,
     "metadata": {},
     "output_type": "execute_result"
    }
   ],
   "source": [
    "params_rf = {'max_depth': [i for i in range(2,17)],\n",
    "          'max_features': [i for i in range(2,10,2)],\n",
    "          'min_samples_leaf': [3,7,8,10],\n",
    "          'min_samples_split': [z for z in range(4,21,2)],\n",
    "          'n_estimators':[int(x) for x in np.linspace(start = 200, stop = 2000, num = 10)],\n",
    "          'bootstrap': [True, False]}\n",
    "\n",
    "random_search_rf = RandomizedSearchCV(model_rf, param_distributions=params_rf, n_jobs=-1)\n",
    "random_search_rf.fit(x_train,y_train)"
   ]
  },
  {
   "cell_type": "code",
   "execution_count": 378,
   "metadata": {},
   "outputs": [
    {
     "data": {
      "text/plain": [
       "{'n_estimators': 1000,\n",
       " 'min_samples_split': 14,\n",
       " 'min_samples_leaf': 3,\n",
       " 'max_features': 2,\n",
       " 'max_depth': 15,\n",
       " 'bootstrap': True}"
      ]
     },
     "execution_count": 378,
     "metadata": {},
     "output_type": "execute_result"
    }
   ],
   "source": [
    "random_search_rf.best_params_"
   ]
  },
  {
   "cell_type": "code",
   "execution_count": 379,
   "metadata": {},
   "outputs": [
    {
     "data": {
      "text/plain": [
       "RandomForestClassifier(bootstrap=True, class_weight='balanced',\n",
       "                       criterion='gini', max_depth=8, max_features=2,\n",
       "                       max_leaf_nodes=None, min_impurity_decrease=0.0,\n",
       "                       min_impurity_split=None, min_samples_leaf=8,\n",
       "                       min_samples_split=10, min_weight_fraction_leaf=0.0,\n",
       "                       n_estimators=1800, n_jobs=None, oob_score=False,\n",
       "                       random_state=42, verbose=0, warm_start=False)"
      ]
     },
     "execution_count": 379,
     "metadata": {},
     "output_type": "execute_result"
    }
   ],
   "source": [
    "tuned_rf = RandomForestClassifier(random_state=42, class_weight='balanced', n_estimators= 1800, \n",
    "                                  min_samples_split= 10, min_samples_leaf= 8,\n",
    "                                  max_features= 2, max_depth=8, bootstrap=True)\n",
    "tuned_rf.fit(x_train,y_train)"
   ]
  },
  {
   "cell_type": "code",
   "execution_count": 380,
   "metadata": {},
   "outputs": [
    {
     "name": "stdout",
     "output_type": "stream",
     "text": [
      "Accuracy on train set 95.23 %\n",
      "Accuracy on test set 88.247 %\n",
      "Mean Squared Error 0.823\n",
      "----------------------------------------------------------------------------------------------------\n",
      "[[169   7  12   8   0   8]\n",
      " [  3 119   0   4   0   0]\n",
      " [  9   0 159   0   4  14]\n",
      " [ 11   3   0 152   0   6]\n",
      " [  0   0   8   0 125   2]\n",
      " [  3   0   3  10   5 177]]\n",
      "----------------------------------------------------------------------------------------------------\n",
      "              precision    recall  f1-score   support\n",
      "\n",
      "           0       0.87      0.83      0.85       204\n",
      "           1       0.92      0.94      0.93       126\n",
      "           2       0.87      0.85      0.86       186\n",
      "           3       0.87      0.88      0.88       172\n",
      "           4       0.93      0.93      0.93       135\n",
      "           5       0.86      0.89      0.87       198\n",
      "\n",
      "    accuracy                           0.88      1021\n",
      "   macro avg       0.89      0.89      0.89      1021\n",
      "weighted avg       0.88      0.88      0.88      1021\n",
      "\n"
     ]
    }
   ],
   "source": [
    "print(\"Accuracy on train set\",round(tuned_rf.score(x_train,y_train)*100,3),\"%\")\n",
    "print(\"Accuracy on test set\",round(tuned_rf.score(x_test,y_test)*100,3),\"%\")\n",
    "\n",
    "tuned_rf_pred = tuned_rf.predict(x_test)\n",
    "print(\"Mean Squared Error\",round(mean_squared_error(y_test,tuned_rf_pred),3))\n",
    "\n",
    "print(\"-\"*100)\n",
    "print(confusion_matrix(y_test, tuned_rf_pred))\n",
    "print(\"-\"*100)\n",
    "print(classification_report(y_test, tuned_rf_pred))"
   ]
  },
  {
   "cell_type": "code",
   "execution_count": 381,
   "metadata": {},
   "outputs": [
    {
     "data": {
      "text/html": [
       "<div>\n",
       "<style scoped>\n",
       "    .dataframe tbody tr th:only-of-type {\n",
       "        vertical-align: middle;\n",
       "    }\n",
       "\n",
       "    .dataframe tbody tr th {\n",
       "        vertical-align: top;\n",
       "    }\n",
       "\n",
       "    .dataframe thead th {\n",
       "        text-align: right;\n",
       "    }\n",
       "</style>\n",
       "<table border=\"1\" class=\"dataframe\">\n",
       "  <thead>\n",
       "    <tr style=\"text-align: right;\">\n",
       "      <th></th>\n",
       "      <th>importance</th>\n",
       "    </tr>\n",
       "  </thead>\n",
       "  <tbody>\n",
       "    <tr>\n",
       "      <td>chestcircumference</td>\n",
       "      <td>0.154468</td>\n",
       "    </tr>\n",
       "    <tr>\n",
       "      <td>biacromialbreadth</td>\n",
       "      <td>0.103177</td>\n",
       "    </tr>\n",
       "    <tr>\n",
       "      <td>forearmhandlength</td>\n",
       "      <td>0.095693</td>\n",
       "    </tr>\n",
       "    <tr>\n",
       "      <td>chestbreadth</td>\n",
       "      <td>0.090584</td>\n",
       "    </tr>\n",
       "    <tr>\n",
       "      <td>neckcircumferencebase</td>\n",
       "      <td>0.086331</td>\n",
       "    </tr>\n",
       "    <tr>\n",
       "      <td>Heightin</td>\n",
       "      <td>0.084337</td>\n",
       "    </tr>\n",
       "    <tr>\n",
       "      <td>acromionradialelength</td>\n",
       "      <td>0.075521</td>\n",
       "    </tr>\n",
       "    <tr>\n",
       "      <td>interscyei</td>\n",
       "      <td>0.066420</td>\n",
       "    </tr>\n",
       "    <tr>\n",
       "      <td>bicepscircumferenceflexed</td>\n",
       "      <td>0.059941</td>\n",
       "    </tr>\n",
       "    <tr>\n",
       "      <td>wristcircumference</td>\n",
       "      <td>0.056341</td>\n",
       "    </tr>\n",
       "    <tr>\n",
       "      <td>bicristalbreadth</td>\n",
       "      <td>0.055615</td>\n",
       "    </tr>\n",
       "    <tr>\n",
       "      <td>shoulderlength</td>\n",
       "      <td>0.047442</td>\n",
       "    </tr>\n",
       "    <tr>\n",
       "      <td>waistfrontlengthsitting</td>\n",
       "      <td>0.024129</td>\n",
       "    </tr>\n",
       "  </tbody>\n",
       "</table>\n",
       "</div>"
      ],
      "text/plain": [
       "                           importance\n",
       "chestcircumference           0.154468\n",
       "biacromialbreadth            0.103177\n",
       "forearmhandlength            0.095693\n",
       "chestbreadth                 0.090584\n",
       "neckcircumferencebase        0.086331\n",
       "Heightin                     0.084337\n",
       "acromionradialelength        0.075521\n",
       "interscyei                   0.066420\n",
       "bicepscircumferenceflexed    0.059941\n",
       "wristcircumference           0.056341\n",
       "bicristalbreadth             0.055615\n",
       "shoulderlength               0.047442\n",
       "waistfrontlengthsitting      0.024129"
      ]
     },
     "execution_count": 381,
     "metadata": {},
     "output_type": "execute_result"
    }
   ],
   "source": [
    "importances = tuned_rf.feature_importances_\n",
    "features = pd.DataFrame(data = importances, columns = [\"importance\"], \n",
    "                        index = df_scaled.drop(['cluster'],axis=1).columns)\n",
    "features.sort_values('importance',ascending=False)"
   ]
  }
 ],
 "metadata": {
  "kernelspec": {
   "display_name": "Python 3",
   "language": "python",
   "name": "python3"
  },
  "language_info": {
   "codemirror_mode": {
    "name": "ipython",
    "version": 3
   },
   "file_extension": ".py",
   "mimetype": "text/x-python",
   "name": "python",
   "nbconvert_exporter": "python",
   "pygments_lexer": "ipython3",
   "version": "3.6.9"
  }
 },
 "nbformat": 4,
 "nbformat_minor": 4
}
